{
  "nbformat": 4,
  "nbformat_minor": 0,
  "metadata": {
    "colab": {
      "provenance": [],
      "authorship_tag": "ABX9TyNzjTFy0Kp/8xmtZeYz2TRZ",
      "include_colab_link": true
    },
    "kernelspec": {
      "name": "python3",
      "display_name": "Python 3"
    },
    "language_info": {
      "name": "python"
    }
  },
  "cells": [
    {
      "cell_type": "markdown",
      "metadata": {
        "id": "view-in-github",
        "colab_type": "text"
      },
      "source": [
        "<a href=\"https://colab.research.google.com/github/leticialaborebp/python-para-data-science/blob/main/Desafio1.ipynb\" target=\"_parent\"><img src=\"https://colab.research.google.com/assets/colab-badge.svg\" alt=\"Open In Colab\"/></a>"
      ]
    },
    {
      "cell_type": "markdown",
      "source": [
        "**Coleta e amostragem de dados**"
      ],
      "metadata": {
        "id": "Kqp01_8oHwoo"
      }
    },
    {
      "cell_type": "markdown",
      "source": [
        "*1.\tCrie um programa que solicite à pessoa usuária digitar seu nome, e imprima “Olá, [nome]!”.*"
      ],
      "metadata": {
        "id": "DGW7m3KBH4li"
      }
    },
    {
      "cell_type": "code",
      "execution_count": 9,
      "metadata": {
        "colab": {
          "base_uri": "https://localhost:8080/"
        },
        "id": "cFpxFDktEArK",
        "outputId": "baa303de-3726-439c-de73-2a97ff30b2e5"
      },
      "outputs": [
        {
          "output_type": "stream",
          "name": "stdout",
          "text": [
            "Escreva seu nome: Letícia\n",
            "Olá Letícia\n"
          ]
        }
      ],
      "source": [
        "nome_usuario = str(input('Escreva seu nome: '))\n",
        "print(f'Olá {nome_usuario}')"
      ]
    },
    {
      "cell_type": "markdown",
      "source": [
        "*2.\tCrie um programa que solicite à pessoa usuária digitar seu nome e idade, e imprima “Olá, [nome], você tem [idade] anos.”.*"
      ],
      "metadata": {
        "id": "MUMUhJhmH5_o"
      }
    },
    {
      "cell_type": "code",
      "source": [
        "nome_usuario = str(input('Escreva seu nome: '))\n",
        "idade_usuario = int(input('Escreva a sua idade: '))\n",
        "print(f'Olá, {nome_usuario}, você tem {idade_usuario} anos.')"
      ],
      "metadata": {
        "colab": {
          "base_uri": "https://localhost:8080/"
        },
        "id": "SFvTb2TkEIGz",
        "outputId": "89472aa7-72cc-4aec-804d-97b5e648f1f6"
      },
      "execution_count": 11,
      "outputs": [
        {
          "output_type": "stream",
          "name": "stdout",
          "text": [
            "Escreva seu nome: Letícia\n",
            "Escreva a sua idade: 23\n",
            "Olá, Letícia, você tem 23 anos.\n"
          ]
        }
      ]
    },
    {
      "cell_type": "markdown",
      "source": [
        "*3.\tCrie um programa que solicite à pessoa usuária digitar seu nome, idade e altura em metros, e imprima “Olá, [nome], você tem [idade] anos e mede [altura] metros!”.*"
      ],
      "metadata": {
        "id": "vu8SsxSGH8u3"
      }
    },
    {
      "cell_type": "code",
      "source": [
        "nome_usuario = str(input('Escreva seu nome: '))\n",
        "idade_usuario = int(input('Escreva a sua idade: '))\n",
        "altura_usuario = float(input('Escreva a sua altura: '))\n",
        "print(f'Olá, {nome_usuario}, você tem {idade_usuario} anos e mede {altura_usuario} metros!')"
      ],
      "metadata": {
        "colab": {
          "base_uri": "https://localhost:8080/"
        },
        "id": "3FMMfc7ZFxEx",
        "outputId": "c1ec9614-b4fb-41d0-8fde-8c29377457d8"
      },
      "execution_count": 13,
      "outputs": [
        {
          "output_type": "stream",
          "name": "stdout",
          "text": [
            "Escreva seu nome: Letícia\n",
            "Escreva a sua idade: 23\n",
            "Escreva a sua altura: 1.6\n",
            "Olá, Letícia, você tem 23 anos e mede 1.6 metros!\n"
          ]
        }
      ]
    },
    {
      "cell_type": "markdown",
      "source": [
        "**Calculadora com Operadores**"
      ],
      "metadata": {
        "id": "DjtvmPQAH0gH"
      }
    },
    {
      "cell_type": "markdown",
      "source": [
        "*1.Crie um programa que solicite dois valores numéricos à pessoa usuária e imprima a soma dos dois valores.*"
      ],
      "metadata": {
        "id": "zs73ZJJhICHP"
      }
    },
    {
      "cell_type": "markdown",
      "source": [],
      "metadata": {
        "id": "U482b-3ONDWs"
      }
    },
    {
      "cell_type": "code",
      "source": [
        "valor1 = float(input('Insira um valor: '))\n",
        "valor2 = float(input('Escreva outro valor: '))\n",
        "print(f'A soma dos dois valores é {valor1 + valor2}')"
      ],
      "metadata": {
        "colab": {
          "base_uri": "https://localhost:8080/"
        },
        "id": "3jiT2r6CGEv4",
        "outputId": "ee19d555-e7c7-435a-ab97-f6afaed7c2f2"
      },
      "execution_count": 14,
      "outputs": [
        {
          "output_type": "stream",
          "name": "stdout",
          "text": [
            "Insira um valor: 10\n",
            "Escreva outro valor: 10\n",
            "A soma dos dois valores é 20.0\n"
          ]
        }
      ]
    },
    {
      "cell_type": "markdown",
      "source": [
        "*2.\tCrie um programa que solicite três valores numéricos à pessoa usuária e imprima a soma dos três valores.*\n",
        "\n"
      ],
      "metadata": {
        "id": "UKH4_XWAIFxH"
      }
    },
    {
      "cell_type": "code",
      "source": [
        "valor1 = float(input('Insira o primeiro valor: '))\n",
        "valor2 = float(input('Escreva o segundo valor: '))\n",
        "valor3 = float(input('Escreva o terceiro valor: '))\n",
        "print(f'A soma dos três valores é {valor1 + valor2 + valor3}')"
      ],
      "metadata": {
        "colab": {
          "base_uri": "https://localhost:8080/"
        },
        "id": "AXBiAckNHXRo",
        "outputId": "a08caa8b-76d5-4e99-b688-f15ae641b399"
      },
      "execution_count": 15,
      "outputs": [
        {
          "output_type": "stream",
          "name": "stdout",
          "text": [
            "Insira o primeiro valor: 10\n",
            "Escreva o segundo valor: 10\n",
            "Escreva o terceiro valor: 10\n",
            "A soma dos dois valores é 30.0\n"
          ]
        }
      ]
    },
    {
      "cell_type": "markdown",
      "source": [
        "*3.\tCrie um programa que solicite dois valores numéricos à pessoa usuária e imprima a subtração do primeiro pelo o segundo valor.*\n"
      ],
      "metadata": {
        "id": "26wjx2RCISeI"
      }
    },
    {
      "cell_type": "code",
      "source": [
        "valor1 = float(input('Insira o primeiro valor: '))\n",
        "valor2 = float(input('Escreva o segundo valor: '))\n",
        "print(f'Ao subtrair o primeiro valor pelo segundo o resultado é {valor1 - valor2}')"
      ],
      "metadata": {
        "colab": {
          "base_uri": "https://localhost:8080/"
        },
        "id": "pY0tC6SKIaIn",
        "outputId": "61141f5b-4c18-4838-9ff5-ed124baffcd0"
      },
      "execution_count": 17,
      "outputs": [
        {
          "output_type": "stream",
          "name": "stdout",
          "text": [
            "Insira o primeiro valor: 15\n",
            "Escreva o segundo valor: 20\n",
            "Ao subtrair o primeiro valor pelo segundo o resultado é -5.0\n"
          ]
        }
      ]
    },
    {
      "cell_type": "markdown",
      "source": [
        "*4.\tCrie um programa que solicite dois valores numéricos à pessoa usuária e imprima a multiplicação dos dois valores*\n"
      ],
      "metadata": {
        "id": "85z31_-jIzi-"
      }
    },
    {
      "cell_type": "code",
      "source": [
        "valor1 = float(input('Insira o primeiro valor: '))\n",
        "valor2 = float(input('Escreva o segundo valor: '))\n",
        "print(f'Ao multiplicar os dois valores o resultado é {valor1 * valor2}')"
      ],
      "metadata": {
        "colab": {
          "base_uri": "https://localhost:8080/"
        },
        "id": "TvoRgNwUIkiQ",
        "outputId": "2ee17221-36e3-4dac-c365-4b2d03726d4a"
      },
      "execution_count": 18,
      "outputs": [
        {
          "output_type": "stream",
          "name": "stdout",
          "text": [
            "Insira o primeiro valor: 10\n",
            "Escreva o segundo valor: 5\n",
            "Ao multiplicar os dois valores o resultado é 50.0\n"
          ]
        }
      ]
    },
    {
      "cell_type": "markdown",
      "source": [
        "*5.\tCrie um programa que solicite dois valores numéricos, um numerador e um denominador, e realize a divisão entre os dois valores. Deixe claro que o valor do denominador não pode ser 0*"
      ],
      "metadata": {
        "id": "LH4Ur9Q5JBFW"
      }
    },
    {
      "cell_type": "code",
      "source": [
        "numerador = float(input('Insira um valor para o numerador: '))\n",
        "denominador = float(input('Insira um valor diferente de zero para o denominador: '))\n",
        "print(f'Ao dividir o numerador pelo denominador o resultado é  {numerador / denominador}')"
      ],
      "metadata": {
        "colab": {
          "base_uri": "https://localhost:8080/"
        },
        "id": "JFiZK8AfI98X",
        "outputId": "c45d229c-ddf4-4220-e8cd-00f2888193cc"
      },
      "execution_count": 19,
      "outputs": [
        {
          "output_type": "stream",
          "name": "stdout",
          "text": [
            "Insira um valor para o numerador: 15\n",
            "Insira um valor diferente de zero para o denominador: 5\n",
            "Ao dividir o numerador pelo denominador o resultado é  3.0\n"
          ]
        }
      ]
    },
    {
      "cell_type": "markdown",
      "source": [
        "*6.\tCrie um programa que solicite dois valores numéricos, um operador e uma potência, e realize a exponenciação entre esses dois valores.*"
      ],
      "metadata": {
        "id": "9HxV8vA4JbO2"
      }
    },
    {
      "cell_type": "code",
      "source": [
        "valor1 = float(input('Insira o primeiro valor: '))\n",
        "valor2 = float(input('Escreva o segundo valor: '))\n",
        "print(f'Ao realizar a exponenciação entre esses dois valores o resultado é  {valor1 ** valor2}')"
      ],
      "metadata": {
        "colab": {
          "base_uri": "https://localhost:8080/"
        },
        "id": "9fFsBItaJZCm",
        "outputId": "91621c5f-10e5-43aa-ff3c-a68420febda5"
      },
      "execution_count": 20,
      "outputs": [
        {
          "output_type": "stream",
          "name": "stdout",
          "text": [
            "Insira o primeiro valor: 10\n",
            "Escreva o segundo valor: 10\n",
            "Ao realizar a exponenciação entre esses dois valores o resultado é  10000000000.0\n"
          ]
        }
      ]
    },
    {
      "cell_type": "markdown",
      "source": [
        "*7.\tCrie um programa que solicite dois valores numéricos, um numerador e um denominador e realize a divisão inteira entre os dois valores. Deixe claro que o valor do denominador não pode ser 0.*"
      ],
      "metadata": {
        "id": "en7LoCJcJ21t"
      }
    },
    {
      "cell_type": "code",
      "source": [
        "numerador = float(input('Insira um valor para o numerador: '))\n",
        "denominador = float(input('Insira um valor diferente de zero para o denominador: '))\n",
        "print(f'Ao dividir o numerador pelo denominador o resultado da divisão inteira é  {numerador // denominador}')"
      ],
      "metadata": {
        "colab": {
          "base_uri": "https://localhost:8080/"
        },
        "id": "IkOvyMnvJ0hm",
        "outputId": "a8ced00f-dd90-41c4-a5ad-fdc15839c0fa"
      },
      "execution_count": 21,
      "outputs": [
        {
          "output_type": "stream",
          "name": "stdout",
          "text": [
            "Insira um valor para o numerador: 10\n",
            "Insira um valor diferente de zero para o denominador: 3\n",
            "Ao dividir o numerador pelo denominador o resultado da divisão inteira é  3.0\n"
          ]
        }
      ]
    },
    {
      "cell_type": "markdown",
      "source": [
        "*8.\tCrie um programa que solicite dois valores numéricos, um numerador e um denominador, e retorne o resto da divisão entre os dois valores. Deixe claro que o valor do denominador não pode ser 0.*"
      ],
      "metadata": {
        "id": "hgch7eRWKPwt"
      }
    },
    {
      "cell_type": "code",
      "source": [
        "numerador = float(input('Insira um valor para o numerador: '))\n",
        "denominador = float(input('Insira um valor diferente de zero para o denominador: '))\n",
        "print(f'Ao dividir o numerador pelo denominador o resto da divisão é  {numerador % denominador}')"
      ],
      "metadata": {
        "colab": {
          "base_uri": "https://localhost:8080/"
        },
        "id": "VbuCfDDMKTnu",
        "outputId": "2a6c353a-37af-4a46-eca7-cadcf19c7b84"
      },
      "execution_count": 22,
      "outputs": [
        {
          "output_type": "stream",
          "name": "stdout",
          "text": [
            "Insira um valor para o numerador: 10\n",
            "Insira um valor diferente de zero para o denominador: 3\n",
            "Ao dividir o numerador pelo denominador o resto da divisão é  1.0\n"
          ]
        }
      ]
    },
    {
      "cell_type": "markdown",
      "source": [
        "*9.\tCrie um código que solicita 3 notas de um estudante e imprima a média das notas.*"
      ],
      "metadata": {
        "id": "cIGQ33YFKb_O"
      }
    },
    {
      "cell_type": "code",
      "source": [
        "nota1 = float(input('Insira a primeira nota: '))\n",
        "nota2 = float(input('Insira a segunda nota: '))\n",
        "nota3 = float(input('Insira a terceira nota: '))\n",
        "print(f'A média das notas é {(nota1+nota2+nota3)/3}')"
      ],
      "metadata": {
        "colab": {
          "base_uri": "https://localhost:8080/"
        },
        "id": "FehhmhBBKZNu",
        "outputId": "2d04ccf4-8820-4c5f-e42d-fe9a72bcbd13"
      },
      "execution_count": 23,
      "outputs": [
        {
          "output_type": "stream",
          "name": "stdout",
          "text": [
            "Insira a primeira nota: 10\n",
            "Insira a segunda nota: 10\n",
            "Insira a terceira nota: 10\n",
            "A média das notas é 10.0\n"
          ]
        }
      ]
    },
    {
      "cell_type": "markdown",
      "source": [
        "*10.\tCrie um código que calcule e imprima a média ponderada dos números 5, 12, 20 e 15 com pesos respectivamente iguais a 1, 2, 3 e 4.*"
      ],
      "metadata": {
        "id": "n5wM7i4hK0Wu"
      }
    },
    {
      "cell_type": "code",
      "source": [
        "n1 = 5\n",
        "p1 = 1\n",
        "n2 = 12\n",
        "p2 = 2\n",
        "n3 = 20\n",
        "p3 = 3\n",
        "n4 = 15\n",
        "p4 = 4\n",
        "\n",
        "total_numero = (p1+p2+p3+p4)\n",
        "media = (n1*p1 + n2*p2 + n3*p3 + n4*p4)/(total_numero)\n",
        "print(f'A média ponderada é { media }')"
      ],
      "metadata": {
        "colab": {
          "base_uri": "https://localhost:8080/"
        },
        "id": "RVptBUTMKwlO",
        "outputId": "6bcde6b1-6b19-4428-f826-7f5f0d8be766"
      },
      "execution_count": 40,
      "outputs": [
        {
          "output_type": "stream",
          "name": "stdout",
          "text": [
            "A média ponderada é 14.9\n"
          ]
        }
      ]
    },
    {
      "cell_type": "markdown",
      "source": [
        "**Editando textos**"
      ],
      "metadata": {
        "id": "8U1BhHNiM8Ek"
      }
    },
    {
      "cell_type": "markdown",
      "source": [
        "*1.\tCrie uma variável chamada “frase” e atribua a ela uma string de sua escolha. Em seguida, imprima a frase na tela.*"
      ],
      "metadata": {
        "id": "fAlNnzIbNhds"
      }
    },
    {
      "cell_type": "code",
      "source": [
        "frase = 'Olá Mundo'\n",
        "frase"
      ],
      "metadata": {
        "colab": {
          "base_uri": "https://localhost:8080/",
          "height": 35
        },
        "id": "pIkJRH-tL8cN",
        "outputId": "c72134cd-7655-4b3d-eb61-9dd573da3c49"
      },
      "execution_count": 25,
      "outputs": [
        {
          "output_type": "execute_result",
          "data": {
            "text/plain": [
              "'Olá Mundo'"
            ],
            "application/vnd.google.colaboratory.intrinsic+json": {
              "type": "string"
            }
          },
          "metadata": {},
          "execution_count": 25
        }
      ]
    },
    {
      "cell_type": "markdown",
      "source": [
        "*2.\tCrie um código que solicite uma frase e depois imprima a frase na tela.*"
      ],
      "metadata": {
        "id": "axSZgJgKNod0"
      }
    },
    {
      "cell_type": "code",
      "source": [
        "frase = input('Escreva uma frase: ')\n",
        "frase"
      ],
      "metadata": {
        "colab": {
          "base_uri": "https://localhost:8080/",
          "height": 53
        },
        "id": "v3YYWvDKNqys",
        "outputId": "e69530bd-ca9a-4c23-f1c6-925209f5d2f5"
      },
      "execution_count": 26,
      "outputs": [
        {
          "name": "stdout",
          "output_type": "stream",
          "text": [
            "Escreva uma frase: Olá Mundo\n"
          ]
        },
        {
          "output_type": "execute_result",
          "data": {
            "text/plain": [
              "'Olá Mundo'"
            ],
            "application/vnd.google.colaboratory.intrinsic+json": {
              "type": "string"
            }
          },
          "metadata": {},
          "execution_count": 26
        }
      ]
    },
    {
      "cell_type": "markdown",
      "source": [
        "3.\tCrie um código que solicite uma frase à pessoa usuária e imprima a mesma frase digitada mas com todas as letras maiúsculas."
      ],
      "metadata": {
        "id": "T0UyTa_yN0jW"
      }
    },
    {
      "cell_type": "code",
      "source": [
        "frase = input('Escreva uma frase: ')\n",
        "frase = frase.upper()\n",
        "frase"
      ],
      "metadata": {
        "colab": {
          "base_uri": "https://localhost:8080/",
          "height": 53
        },
        "id": "byFNismiNyek",
        "outputId": "67ef031c-3fdc-4968-bd63-03d7e317207e"
      },
      "execution_count": 31,
      "outputs": [
        {
          "name": "stdout",
          "output_type": "stream",
          "text": [
            "Escreva uma frase: Olá Mundo\n"
          ]
        },
        {
          "output_type": "execute_result",
          "data": {
            "text/plain": [
              "'OLÁ MUNDO'"
            ],
            "application/vnd.google.colaboratory.intrinsic+json": {
              "type": "string"
            }
          },
          "metadata": {},
          "execution_count": 31
        }
      ]
    },
    {
      "cell_type": "markdown",
      "source": [
        "*4.\tCrie um código que solicite uma frase à pessoa usuária e imprima a mesma frase digitada mas com todas as letras minúsculas.*"
      ],
      "metadata": {
        "id": "DGwmY6dwOVos"
      }
    },
    {
      "cell_type": "code",
      "source": [
        "frase = input('Escreva uma frase: ')\n",
        "frase = frase.lower()\n",
        "frase"
      ],
      "metadata": {
        "colab": {
          "base_uri": "https://localhost:8080/",
          "height": 53
        },
        "id": "53qBWwdQN_2N",
        "outputId": "39b67b32-8355-48e9-c014-4d13f1300907"
      },
      "execution_count": 32,
      "outputs": [
        {
          "name": "stdout",
          "output_type": "stream",
          "text": [
            "Escreva uma frase: Olá Mundo\n"
          ]
        },
        {
          "output_type": "execute_result",
          "data": {
            "text/plain": [
              "'olá mundo'"
            ],
            "application/vnd.google.colaboratory.intrinsic+json": {
              "type": "string"
            }
          },
          "metadata": {},
          "execution_count": 32
        }
      ]
    },
    {
      "cell_type": "markdown",
      "source": [
        "*5.\tCrie uma variável chamada “frase” e atribua a ela uma string de sua escolha. Em seguida, imprima a frase sem espaços em branco no início e no fim.*"
      ],
      "metadata": {
        "id": "eQH8oiaSOdvO"
      }
    },
    {
      "cell_type": "code",
      "source": [
        "frase = '      Olá mundo      '\n",
        "frase = frase.strip()\n",
        "frase"
      ],
      "metadata": {
        "colab": {
          "base_uri": "https://localhost:8080/",
          "height": 35
        },
        "id": "N6m108cfOZpk",
        "outputId": "20a2637d-b5d6-4183-bd02-afcb08fb3bd4"
      },
      "execution_count": 34,
      "outputs": [
        {
          "output_type": "execute_result",
          "data": {
            "text/plain": [
              "'Olá mundo'"
            ],
            "application/vnd.google.colaboratory.intrinsic+json": {
              "type": "string"
            }
          },
          "metadata": {},
          "execution_count": 34
        }
      ]
    },
    {
      "cell_type": "markdown",
      "source": [
        "*6.\tCrie um código que solicite uma frase à pessoa usuária e imprima a mesma frase sem espaços em branco no início e no fim.*"
      ],
      "metadata": {
        "id": "7OKCWWiTOnvc"
      }
    },
    {
      "cell_type": "code",
      "source": [
        "frase = input('Escreva uma frase: ')\n",
        "frase = frase.strip()\n",
        "frase"
      ],
      "metadata": {
        "colab": {
          "base_uri": "https://localhost:8080/",
          "height": 53
        },
        "id": "rodNr7s1OknM",
        "outputId": "f1c5bc22-b269-4d73-b241-c447a505d736"
      },
      "execution_count": 35,
      "outputs": [
        {
          "name": "stdout",
          "output_type": "stream",
          "text": [
            "Escreva uma frase: Olá mundo        \n"
          ]
        },
        {
          "output_type": "execute_result",
          "data": {
            "text/plain": [
              "'Olá mundo'"
            ],
            "application/vnd.google.colaboratory.intrinsic+json": {
              "type": "string"
            }
          },
          "metadata": {},
          "execution_count": 35
        }
      ]
    },
    {
      "cell_type": "markdown",
      "source": [
        "*7.\tCrie um código que solicite uma frase à pessoa usuária e imprima a mesma frase sem espaços em branco no início e no fim e em letras minúsculas.*"
      ],
      "metadata": {
        "id": "xO5CNQMCO6_k"
      }
    },
    {
      "cell_type": "code",
      "source": [
        "frase = input('Escreva uma frase: ')\n",
        "frase = frase.strip().lower()\n",
        "frase"
      ],
      "metadata": {
        "colab": {
          "base_uri": "https://localhost:8080/",
          "height": 53
        },
        "id": "-ARCAkASO1J0",
        "outputId": "1eec6eeb-e7a3-4c47-a2f4-06bf666e0f83"
      },
      "execution_count": 38,
      "outputs": [
        {
          "name": "stdout",
          "output_type": "stream",
          "text": [
            "Escreva uma frase:       OLÁ MUNDO\n"
          ]
        },
        {
          "output_type": "execute_result",
          "data": {
            "text/plain": [
              "'olá mundo'"
            ],
            "application/vnd.google.colaboratory.intrinsic+json": {
              "type": "string"
            }
          },
          "metadata": {},
          "execution_count": 38
        }
      ]
    },
    {
      "cell_type": "markdown",
      "source": [
        "*8.\tCrie um código que solicite uma frase à pessoa usuária e imprima a mesma frase com todas as vogais “e” trocadas pela letra “f”*."
      ],
      "metadata": {
        "id": "028Mej7cPiT8"
      }
    },
    {
      "cell_type": "code",
      "source": [
        "frase = input('Escreva uma frase: ')\n",
        "frase = frase.replace('e','f')\n",
        "frase"
      ],
      "metadata": {
        "colab": {
          "base_uri": "https://localhost:8080/",
          "height": 53
        },
        "id": "U8j8GfNqPF0m",
        "outputId": "37afb309-e475-4a28-94ce-984d9c8f1254"
      },
      "execution_count": 39,
      "outputs": [
        {
          "name": "stdout",
          "output_type": "stream",
          "text": [
            "Escreva uma frase: ela é bonita\n"
          ]
        },
        {
          "output_type": "execute_result",
          "data": {
            "text/plain": [
              "'fla é bonita'"
            ],
            "application/vnd.google.colaboratory.intrinsic+json": {
              "type": "string"
            }
          },
          "metadata": {},
          "execution_count": 39
        }
      ]
    },
    {
      "cell_type": "markdown",
      "source": [
        "*9.\tCrie um código que solicite uma frase à pessoa usuária e imprima a mesma frase com todas as vogais “a” trocadas pela caractere “@”.*"
      ],
      "metadata": {
        "id": "ywVVoGoWPs4D"
      }
    },
    {
      "cell_type": "code",
      "source": [
        "frase = input('Escreva uma frase: ')\n",
        "frase = frase.replace('a', '@')\n",
        "frase"
      ],
      "metadata": {
        "colab": {
          "base_uri": "https://localhost:8080/",
          "height": 53
        },
        "id": "0a_pJr6JPp8M",
        "outputId": "677c97ef-8b46-4e08-b1a2-b316ecbb9f7a"
      },
      "execution_count": 43,
      "outputs": [
        {
          "name": "stdout",
          "output_type": "stream",
          "text": [
            "Escreva uma frase: Ola Mundo\n"
          ]
        },
        {
          "output_type": "execute_result",
          "data": {
            "text/plain": [
              "'Ol@ Mundo'"
            ],
            "application/vnd.google.colaboratory.intrinsic+json": {
              "type": "string"
            }
          },
          "metadata": {},
          "execution_count": 43
        }
      ]
    },
    {
      "cell_type": "markdown",
      "source": [
        "*10.\tCrie um código que solicite uma frase à pessoa usuária e imprima a mesma frase com todas as consoantes “s” trocadas pelo caractere “$”.*"
      ],
      "metadata": {
        "id": "7hTYmlZ-Qcuz"
      }
    },
    {
      "cell_type": "code",
      "source": [
        "frase = input('Escreva uma frase: ')\n",
        "frase = frase.replace('S', '$')\n",
        "frase"
      ],
      "metadata": {
        "colab": {
          "base_uri": "https://localhost:8080/",
          "height": 53
        },
        "id": "NKcdOQLzQQG7",
        "outputId": "4a490e96-8185-4516-da93-74af9a3855b9"
      },
      "execution_count": 45,
      "outputs": [
        {
          "name": "stdout",
          "output_type": "stream",
          "text": [
            "Escreva uma frase: Sol\n"
          ]
        },
        {
          "output_type": "execute_result",
          "data": {
            "text/plain": [
              "'$ol'"
            ],
            "application/vnd.google.colaboratory.intrinsic+json": {
              "type": "string"
            }
          },
          "metadata": {},
          "execution_count": 45
        }
      ]
    },
    {
      "cell_type": "code",
      "source": [],
      "metadata": {
        "id": "8-RGvACTQgoj"
      },
      "execution_count": null,
      "outputs": []
    }
  ]
}